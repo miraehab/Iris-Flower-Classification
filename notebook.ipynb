{
 "cells": [
  {
   "cell_type": "markdown",
   "id": "d40e68ca",
   "metadata": {
    "papermill": {
     "duration": 0.008483,
     "end_time": "2022-11-12T09:56:29.609378",
     "exception": false,
     "start_time": "2022-11-12T09:56:29.600895",
     "status": "completed"
    },
    "tags": []
   },
   "source": [
    "<h1>Iris Flowers Classifier</h1>"
   ]
  },
  {
   "cell_type": "markdown",
   "id": "1f1ec35f",
   "metadata": {
    "papermill": {
     "duration": 0.006965,
     "end_time": "2022-11-12T09:56:29.623730",
     "exception": false,
     "start_time": "2022-11-12T09:56:29.616765",
     "status": "completed"
    },
    "tags": []
   },
   "source": [
    "<h2>Import dependencies:</h2>"
   ]
  },
  {
   "cell_type": "code",
   "execution_count": 104,
   "id": "2cbfc485",
   "metadata": {
    "execution": {
     "iopub.execute_input": "2022-11-12T09:56:29.639468Z",
     "iopub.status.busy": "2022-11-12T09:56:29.638963Z",
     "iopub.status.idle": "2022-11-12T09:56:30.745787Z",
     "shell.execute_reply": "2022-11-12T09:56:30.744842Z"
    },
    "papermill": {
     "duration": 1.117964,
     "end_time": "2022-11-12T09:56:30.748592",
     "exception": false,
     "start_time": "2022-11-12T09:56:29.630628",
     "status": "completed"
    },
    "tags": []
   },
   "outputs": [],
   "source": [
    "import pandas as pd\n",
    "import numpy as np\n",
    "import seaborn as sns\n",
    "import matplotlib.pyplot as plt\n",
    "from sklearn import datasets"
   ]
  },
  {
   "cell_type": "code",
   "execution_count": 105,
   "id": "cc7e1caf",
   "metadata": {
    "execution": {
     "iopub.execute_input": "2022-11-12T09:56:30.765278Z",
     "iopub.status.busy": "2022-11-12T09:56:30.764380Z",
     "iopub.status.idle": "2022-11-12T09:56:30.769168Z",
     "shell.execute_reply": "2022-11-12T09:56:30.768185Z"
    },
    "papermill": {
     "duration": 0.015846,
     "end_time": "2022-11-12T09:56:30.771813",
     "exception": false,
     "start_time": "2022-11-12T09:56:30.755967",
     "status": "completed"
    },
    "tags": []
   },
   "outputs": [],
   "source": [
    "import warnings\n",
    "warnings.filterwarnings('ignore')"
   ]
  },
  {
   "cell_type": "markdown",
   "id": "af8002de",
   "metadata": {
    "papermill": {
     "duration": 0.006702,
     "end_time": "2022-11-12T09:56:30.785785",
     "exception": false,
     "start_time": "2022-11-12T09:56:30.779083",
     "status": "completed"
    },
    "tags": []
   },
   "source": [
    "<h2>Load the Data:</h2>"
   ]
  },
  {
   "cell_type": "code",
   "execution_count": 106,
   "id": "1054274a",
   "metadata": {
    "execution": {
     "iopub.execute_input": "2022-11-12T09:56:30.802806Z",
     "iopub.status.busy": "2022-11-12T09:56:30.802403Z",
     "iopub.status.idle": "2022-11-12T09:56:30.812785Z",
     "shell.execute_reply": "2022-11-12T09:56:30.811790Z"
    },
    "papermill": {
     "duration": 0.022444,
     "end_time": "2022-11-12T09:56:30.815131",
     "exception": false,
     "start_time": "2022-11-12T09:56:30.792687",
     "status": "completed"
    },
    "tags": []
   },
   "outputs": [],
   "source": [
    "iris = datasets.load_iris()"
   ]
  },
  {
   "cell_type": "code",
   "execution_count": 107,
   "id": "31652507",
   "metadata": {
    "execution": {
     "iopub.execute_input": "2022-11-12T09:56:30.833015Z",
     "iopub.status.busy": "2022-11-12T09:56:30.831905Z",
     "iopub.status.idle": "2022-11-12T09:56:30.872495Z",
     "shell.execute_reply": "2022-11-12T09:56:30.871568Z"
    },
    "papermill": {
     "duration": 0.052162,
     "end_time": "2022-11-12T09:56:30.875064",
     "exception": false,
     "start_time": "2022-11-12T09:56:30.822902",
     "status": "completed"
    },
    "tags": []
   },
   "outputs": [
    {
     "data": {
      "text/html": [
       "<div>\n",
       "<style scoped>\n",
       "    .dataframe tbody tr th:only-of-type {\n",
       "        vertical-align: middle;\n",
       "    }\n",
       "\n",
       "    .dataframe tbody tr th {\n",
       "        vertical-align: top;\n",
       "    }\n",
       "\n",
       "    .dataframe thead th {\n",
       "        text-align: right;\n",
       "    }\n",
       "</style>\n",
       "<table border=\"1\" class=\"dataframe\">\n",
       "  <thead>\n",
       "    <tr style=\"text-align: right;\">\n",
       "      <th></th>\n",
       "      <th>sepal length (cm)</th>\n",
       "      <th>sepal width (cm)</th>\n",
       "      <th>petal length (cm)</th>\n",
       "      <th>petal width (cm)</th>\n",
       "      <th>Species</th>\n",
       "    </tr>\n",
       "  </thead>\n",
       "  <tbody>\n",
       "    <tr>\n",
       "      <th>0</th>\n",
       "      <td>5.1</td>\n",
       "      <td>3.5</td>\n",
       "      <td>1.4</td>\n",
       "      <td>0.2</td>\n",
       "      <td>0</td>\n",
       "    </tr>\n",
       "    <tr>\n",
       "      <th>1</th>\n",
       "      <td>4.9</td>\n",
       "      <td>3.0</td>\n",
       "      <td>1.4</td>\n",
       "      <td>0.2</td>\n",
       "      <td>0</td>\n",
       "    </tr>\n",
       "    <tr>\n",
       "      <th>2</th>\n",
       "      <td>4.7</td>\n",
       "      <td>3.2</td>\n",
       "      <td>1.3</td>\n",
       "      <td>0.2</td>\n",
       "      <td>0</td>\n",
       "    </tr>\n",
       "    <tr>\n",
       "      <th>3</th>\n",
       "      <td>4.6</td>\n",
       "      <td>3.1</td>\n",
       "      <td>1.5</td>\n",
       "      <td>0.2</td>\n",
       "      <td>0</td>\n",
       "    </tr>\n",
       "    <tr>\n",
       "      <th>4</th>\n",
       "      <td>5.0</td>\n",
       "      <td>3.6</td>\n",
       "      <td>1.4</td>\n",
       "      <td>0.2</td>\n",
       "      <td>0</td>\n",
       "    </tr>\n",
       "    <tr>\n",
       "      <th>...</th>\n",
       "      <td>...</td>\n",
       "      <td>...</td>\n",
       "      <td>...</td>\n",
       "      <td>...</td>\n",
       "      <td>...</td>\n",
       "    </tr>\n",
       "    <tr>\n",
       "      <th>145</th>\n",
       "      <td>6.7</td>\n",
       "      <td>3.0</td>\n",
       "      <td>5.2</td>\n",
       "      <td>2.3</td>\n",
       "      <td>2</td>\n",
       "    </tr>\n",
       "    <tr>\n",
       "      <th>146</th>\n",
       "      <td>6.3</td>\n",
       "      <td>2.5</td>\n",
       "      <td>5.0</td>\n",
       "      <td>1.9</td>\n",
       "      <td>2</td>\n",
       "    </tr>\n",
       "    <tr>\n",
       "      <th>147</th>\n",
       "      <td>6.5</td>\n",
       "      <td>3.0</td>\n",
       "      <td>5.2</td>\n",
       "      <td>2.0</td>\n",
       "      <td>2</td>\n",
       "    </tr>\n",
       "    <tr>\n",
       "      <th>148</th>\n",
       "      <td>6.2</td>\n",
       "      <td>3.4</td>\n",
       "      <td>5.4</td>\n",
       "      <td>2.3</td>\n",
       "      <td>2</td>\n",
       "    </tr>\n",
       "    <tr>\n",
       "      <th>149</th>\n",
       "      <td>5.9</td>\n",
       "      <td>3.0</td>\n",
       "      <td>5.1</td>\n",
       "      <td>1.8</td>\n",
       "      <td>2</td>\n",
       "    </tr>\n",
       "  </tbody>\n",
       "</table>\n",
       "<p>150 rows × 5 columns</p>\n",
       "</div>"
      ],
      "text/plain": [
       "     sepal length (cm)  sepal width (cm)  petal length (cm)  petal width (cm)  \\\n",
       "0                  5.1               3.5                1.4               0.2   \n",
       "1                  4.9               3.0                1.4               0.2   \n",
       "2                  4.7               3.2                1.3               0.2   \n",
       "3                  4.6               3.1                1.5               0.2   \n",
       "4                  5.0               3.6                1.4               0.2   \n",
       "..                 ...               ...                ...               ...   \n",
       "145                6.7               3.0                5.2               2.3   \n",
       "146                6.3               2.5                5.0               1.9   \n",
       "147                6.5               3.0                5.2               2.0   \n",
       "148                6.2               3.4                5.4               2.3   \n",
       "149                5.9               3.0                5.1               1.8   \n",
       "\n",
       "     Species  \n",
       "0          0  \n",
       "1          0  \n",
       "2          0  \n",
       "3          0  \n",
       "4          0  \n",
       "..       ...  \n",
       "145        2  \n",
       "146        2  \n",
       "147        2  \n",
       "148        2  \n",
       "149        2  \n",
       "\n",
       "[150 rows x 5 columns]"
      ]
     },
     "execution_count": 107,
     "metadata": {},
     "output_type": "execute_result"
    }
   ],
   "source": [
    "data = pd.DataFrame(iris['data'],columns = iris['feature_names'])\n",
    "data['Species'] = iris['target']\n",
    "data"
   ]
  },
  {
   "cell_type": "code",
   "execution_count": 108,
   "id": "c7b4948c",
   "metadata": {
    "execution": {
     "iopub.execute_input": "2022-11-12T09:56:30.918273Z",
     "iopub.status.busy": "2022-11-12T09:56:30.917565Z",
     "iopub.status.idle": "2022-11-12T09:56:30.923393Z",
     "shell.execute_reply": "2022-11-12T09:56:30.922588Z"
    },
    "papermill": {
     "duration": 0.017058,
     "end_time": "2022-11-12T09:56:30.925449",
     "exception": false,
     "start_time": "2022-11-12T09:56:30.908391",
     "status": "completed"
    },
    "tags": []
   },
   "outputs": [
    {
     "data": {
      "text/plain": [
       "(150, 5)"
      ]
     },
     "execution_count": 108,
     "metadata": {},
     "output_type": "execute_result"
    }
   ],
   "source": [
    "data.shape"
   ]
  },
  {
   "cell_type": "markdown",
   "id": "114cd4e8",
   "metadata": {
    "papermill": {
     "duration": 0.00753,
     "end_time": "2022-11-12T09:56:30.940957",
     "exception": false,
     "start_time": "2022-11-12T09:56:30.933427",
     "status": "completed"
    },
    "tags": []
   },
   "source": [
    "<h2>Data Preprocessing:</h2>"
   ]
  },
  {
   "cell_type": "markdown",
   "id": "9888421d",
   "metadata": {
    "papermill": {
     "duration": 0.00753,
     "end_time": "2022-11-12T09:56:30.956263",
     "exception": false,
     "start_time": "2022-11-12T09:56:30.948733",
     "status": "completed"
    },
    "tags": []
   },
   "source": [
    "<h3>Encode the Categorical data:</h3>"
   ]
  },
  {
   "cell_type": "code",
   "execution_count": 109,
   "id": "32bbcbf0",
   "metadata": {
    "execution": {
     "iopub.execute_input": "2022-11-12T09:56:30.974132Z",
     "iopub.status.busy": "2022-11-12T09:56:30.973447Z",
     "iopub.status.idle": "2022-11-12T09:56:30.978272Z",
     "shell.execute_reply": "2022-11-12T09:56:30.977217Z"
    },
    "papermill": {
     "duration": 0.016804,
     "end_time": "2022-11-12T09:56:30.980844",
     "exception": false,
     "start_time": "2022-11-12T09:56:30.964040",
     "status": "completed"
    },
    "tags": []
   },
   "outputs": [],
   "source": [
    "mapping ={'Iris-setosa': 0, 'Iris-versicolor': 1, 'Iris-virginica': 2}"
   ]
  },
  {
   "cell_type": "code",
   "execution_count": 110,
   "id": "bf92b1cb",
   "metadata": {
    "execution": {
     "iopub.execute_input": "2022-11-12T09:56:30.998332Z",
     "iopub.status.busy": "2022-11-12T09:56:30.997918Z",
     "iopub.status.idle": "2022-11-12T09:56:31.006181Z",
     "shell.execute_reply": "2022-11-12T09:56:31.005482Z"
    },
    "papermill": {
     "duration": 0.019151,
     "end_time": "2022-11-12T09:56:31.008081",
     "exception": false,
     "start_time": "2022-11-12T09:56:30.988930",
     "status": "completed"
    },
    "tags": []
   },
   "outputs": [
    {
     "data": {
      "text/plain": [
       "0      0\n",
       "1      0\n",
       "2      0\n",
       "3      0\n",
       "4      0\n",
       "      ..\n",
       "145    2\n",
       "146    2\n",
       "147    2\n",
       "148    2\n",
       "149    2\n",
       "Name: Species, Length: 150, dtype: int32"
      ]
     },
     "execution_count": 110,
     "metadata": {},
     "output_type": "execute_result"
    }
   ],
   "source": [
    "data[\"Species\"].replace(mapping, inplace = True)\n",
    "data[\"Species\"]"
   ]
  },
  {
   "cell_type": "markdown",
   "id": "59f70869",
   "metadata": {
    "papermill": {
     "duration": 0.007833,
     "end_time": "2022-11-12T09:56:31.023912",
     "exception": false,
     "start_time": "2022-11-12T09:56:31.016079",
     "status": "completed"
    },
    "tags": []
   },
   "source": [
    "<h2>Split the Data:</h2>"
   ]
  },
  {
   "cell_type": "code",
   "execution_count": 111,
   "id": "be64e094",
   "metadata": {
    "execution": {
     "iopub.execute_input": "2022-11-12T09:56:31.041971Z",
     "iopub.status.busy": "2022-11-12T09:56:31.041265Z",
     "iopub.status.idle": "2022-11-12T09:56:31.050361Z",
     "shell.execute_reply": "2022-11-12T09:56:31.049527Z"
    },
    "papermill": {
     "duration": 0.020784,
     "end_time": "2022-11-12T09:56:31.052608",
     "exception": false,
     "start_time": "2022-11-12T09:56:31.031824",
     "status": "completed"
    },
    "tags": []
   },
   "outputs": [],
   "source": [
    "X = data.drop([\"Species\"], axis=1)\n",
    "Y = data[\"Species\"]"
   ]
  },
  {
   "cell_type": "markdown",
   "id": "fb4d76c0",
   "metadata": {
    "papermill": {
     "duration": 0.007715,
     "end_time": "2022-11-12T09:56:31.068502",
     "exception": false,
     "start_time": "2022-11-12T09:56:31.060787",
     "status": "completed"
    },
    "tags": []
   },
   "source": [
    "<h3>Split The Data into train, validation and test sets using the built-in function train_test_split:</h3>"
   ]
  },
  {
   "cell_type": "code",
   "execution_count": 112,
   "id": "6f05a057",
   "metadata": {
    "execution": {
     "iopub.execute_input": "2022-11-12T09:56:31.086385Z",
     "iopub.status.busy": "2022-11-12T09:56:31.085973Z",
     "iopub.status.idle": "2022-11-12T09:56:31.134858Z",
     "shell.execute_reply": "2022-11-12T09:56:31.133723Z"
    },
    "papermill": {
     "duration": 0.061226,
     "end_time": "2022-11-12T09:56:31.137702",
     "exception": false,
     "start_time": "2022-11-12T09:56:31.076476",
     "status": "completed"
    },
    "tags": []
   },
   "outputs": [],
   "source": [
    "from sklearn.model_selection import train_test_split\n",
    "\n",
    "# train data = 60%, validation data = 20% and, test data = 20%\n",
    "\n",
    "X_Train2, X_Test2, Y_Train2, Y_Test2 = train_test_split(X, Y, test_size=0.2, random_state=1)\n",
    "\n",
    "# 25% of the train data (now 80% of the data) is 20% of the whole data\n",
    "# 0.2 = val*0.8 so the val size = 0.25\n",
    "X_Train2, X_Val2, Y_Train2, Y_Val2 = train_test_split(X_Train2, Y_Train2, test_size=0.25, random_state=1)"
   ]
  },
  {
   "cell_type": "markdown",
   "id": "b46cc723",
   "metadata": {
    "papermill": {
     "duration": 0.007712,
     "end_time": "2022-11-12T09:56:31.153619",
     "exception": false,
     "start_time": "2022-11-12T09:56:31.145907",
     "status": "completed"
    },
    "tags": []
   },
   "source": [
    "<h3 style=\"color: red\">TODO:</h3>\n",
    "<h3>Implement the Function train_validate_test_split(data, labels, testRatio = 0.3, valRatio = 0.3) from scratch</h3>"
   ]
  },
  {
   "cell_type": "code",
   "execution_count": 113,
   "id": "274bc3ab",
   "metadata": {
    "execution": {
     "iopub.execute_input": "2022-11-12T09:56:31.171458Z",
     "iopub.status.busy": "2022-11-12T09:56:31.170998Z",
     "iopub.status.idle": "2022-11-12T09:56:31.182499Z",
     "shell.execute_reply": "2022-11-12T09:56:31.181369Z"
    },
    "papermill": {
     "duration": 0.023073,
     "end_time": "2022-11-12T09:56:31.184790",
     "exception": false,
     "start_time": "2022-11-12T09:56:31.161717",
     "status": "completed"
    },
    "tags": []
   },
   "outputs": [],
   "source": [
    "def train_validate_test_split(data, testRatio = 0.3, valRatio = 0.3):\n",
    "    #shuffle the data to make sure the data order doesn't affect the training.\n",
    "    data_shuffeled = data.sample(frac = 1)\n",
    "    X_shuffeled = data_shuffeled.drop([\"Species\"], axis=1)\n",
    "    Y_shuffeled = data_shuffeled[\"Species\"]\n",
    "\n",
    "    # the number of rows in the dataframe\n",
    "    rows = data.shape[0]\n",
    "\n",
    "    # Assign the train split\n",
    "    # determine the size of the train data\n",
    "    tain_row_num = int(rows*(1-(testRatio + valRatio)))\n",
    "    X_Train = X_shuffeled.iloc[: tain_row_num]\n",
    "    Y_Train = Y_shuffeled.iloc[: tain_row_num]\n",
    "\n",
    "    # Assign the test split\n",
    "    # determine the size of the test data and add the train number to take different rows.\n",
    "    test_row_num = int(rows*(testRatio)) + tain_row_num\n",
    "    X_Test = X_shuffeled.iloc[tain_row_num: test_row_num]\n",
    "    Y_Test = Y_shuffeled.iloc[tain_row_num: test_row_num]\n",
    "\n",
    "    # Assign the validation split\n",
    "    # determine the size of the validation data and add the test number to take different rows.\n",
    "    val_row_num = int(rows*(valRatio)) + test_row_num\n",
    "    X_Val = X_shuffeled.iloc[test_row_num: val_row_num]\n",
    "    Y_Val = Y_shuffeled.iloc[test_row_num: val_row_num]\n",
    "\n",
    "    return X_Train, X_Val, X_Test, Y_Train, Y_Val, Y_Test\n",
    "\n",
    "X_Train, X_Val, X_Test, Y_Train, Y_Val, Y_Test = train_validate_test_split(data, 0.2, 0.2)"
   ]
  },
  {
   "cell_type": "markdown",
   "id": "924f33a0",
   "metadata": {
    "papermill": {
     "duration": 0.007896,
     "end_time": "2022-11-12T09:56:31.201186",
     "exception": false,
     "start_time": "2022-11-12T09:56:31.193290",
     "status": "completed"
    },
    "tags": []
   },
   "source": [
    "<h2>Modeling:</h2>"
   ]
  },
  {
   "cell_type": "markdown",
   "id": "790ad4ce",
   "metadata": {
    "papermill": {
     "duration": 0.007847,
     "end_time": "2022-11-12T09:56:31.217015",
     "exception": false,
     "start_time": "2022-11-12T09:56:31.209168",
     "status": "completed"
    },
    "tags": []
   },
   "source": [
    "<h3>Naive Bayes Classifier:</h3>"
   ]
  },
  {
   "cell_type": "code",
   "execution_count": 114,
   "id": "752e47eb",
   "metadata": {
    "execution": {
     "iopub.execute_input": "2022-11-12T09:56:31.234855Z",
     "iopub.status.busy": "2022-11-12T09:56:31.234436Z",
     "iopub.status.idle": "2022-11-12T09:56:31.248118Z",
     "shell.execute_reply": "2022-11-12T09:56:31.247365Z"
    },
    "papermill": {
     "duration": 0.025304,
     "end_time": "2022-11-12T09:56:31.250388",
     "exception": false,
     "start_time": "2022-11-12T09:56:31.225084",
     "status": "completed"
    },
    "tags": []
   },
   "outputs": [
    {
     "data": {
      "text/plain": [
       "0.9666666666666667"
      ]
     },
     "execution_count": 114,
     "metadata": {},
     "output_type": "execute_result"
    }
   ],
   "source": [
    "from sklearn.naive_bayes import GaussianNB\n",
    "\n",
    "gnb = GaussianNB()\n",
    "gnb.fit(X_Train, Y_Train)\n",
    "\n",
    "gnb.score(X_Train, Y_Train)"
   ]
  },
  {
   "cell_type": "markdown",
   "id": "6d9ef8fb",
   "metadata": {
    "papermill": {
     "duration": 0.008006,
     "end_time": "2022-11-12T09:56:31.266624",
     "exception": false,
     "start_time": "2022-11-12T09:56:31.258618",
     "status": "completed"
    },
    "tags": []
   },
   "source": [
    "<h3>Use the Validation set to test the model:</h3>"
   ]
  },
  {
   "cell_type": "code",
   "execution_count": 115,
   "id": "46c6a43d",
   "metadata": {
    "execution": {
     "iopub.execute_input": "2022-11-12T09:56:31.285267Z",
     "iopub.status.busy": "2022-11-12T09:56:31.284331Z",
     "iopub.status.idle": "2022-11-12T09:56:31.293032Z",
     "shell.execute_reply": "2022-11-12T09:56:31.292104Z"
    },
    "papermill": {
     "duration": 0.02032,
     "end_time": "2022-11-12T09:56:31.295051",
     "exception": false,
     "start_time": "2022-11-12T09:56:31.274731",
     "status": "completed"
    },
    "tags": []
   },
   "outputs": [
    {
     "data": {
      "text/plain": [
       "0.9"
      ]
     },
     "execution_count": 115,
     "metadata": {},
     "output_type": "execute_result"
    }
   ],
   "source": [
    "gnb.score(X_Val, Y_Val)"
   ]
  },
  {
   "cell_type": "markdown",
   "id": "96180370",
   "metadata": {
    "papermill": {
     "duration": 0.008172,
     "end_time": "2022-11-12T09:56:31.311825",
     "exception": false,
     "start_time": "2022-11-12T09:56:31.303653",
     "status": "completed"
    },
    "tags": []
   },
   "source": [
    "<h3>Use the test set to test the model:</h3>"
   ]
  },
  {
   "cell_type": "code",
   "execution_count": 116,
   "id": "82e4cacc",
   "metadata": {
    "execution": {
     "iopub.execute_input": "2022-11-12T09:56:31.330558Z",
     "iopub.status.busy": "2022-11-12T09:56:31.330133Z",
     "iopub.status.idle": "2022-11-12T09:56:31.336562Z",
     "shell.execute_reply": "2022-11-12T09:56:31.335533Z"
    },
    "papermill": {
     "duration": 0.018622,
     "end_time": "2022-11-12T09:56:31.338851",
     "exception": false,
     "start_time": "2022-11-12T09:56:31.320229",
     "status": "completed"
    },
    "tags": []
   },
   "outputs": [],
   "source": [
    "Y_Pred = gnb.predict(X_Test)"
   ]
  },
  {
   "cell_type": "code",
   "execution_count": 117,
   "id": "b0f845d7",
   "metadata": {
    "execution": {
     "iopub.execute_input": "2022-11-12T09:56:31.357739Z",
     "iopub.status.busy": "2022-11-12T09:56:31.357343Z",
     "iopub.status.idle": "2022-11-12T09:56:31.364812Z",
     "shell.execute_reply": "2022-11-12T09:56:31.363883Z"
    },
    "papermill": {
     "duration": 0.019288,
     "end_time": "2022-11-12T09:56:31.366786",
     "exception": false,
     "start_time": "2022-11-12T09:56:31.347498",
     "status": "completed"
    },
    "tags": []
   },
   "outputs": [
    {
     "name": "stdout",
     "output_type": "stream",
     "text": [
      "96.66666666666667\n"
     ]
    }
   ],
   "source": [
    "from sklearn.metrics import accuracy_score\n",
    "\n",
    "print(accuracy_score(Y_Test, Y_Pred)*100)"
   ]
  },
  {
   "cell_type": "markdown",
   "id": "02729b59",
   "metadata": {
    "papermill": {
     "duration": 0.01001,
     "end_time": "2022-11-12T09:56:35.636470",
     "exception": false,
     "start_time": "2022-11-12T09:56:35.626460",
     "status": "completed"
    },
    "tags": []
   },
   "source": [
    "<h3 style=\"color: red\">TODO:</h3>\n",
    "<h3>Implement the Function calculate_accuracy(predicted_y, y) from scratch</h3>"
   ]
  },
  {
   "cell_type": "code",
   "execution_count": 118,
   "id": "ce8863b6",
   "metadata": {
    "execution": {
     "iopub.execute_input": "2022-11-12T09:56:35.658173Z",
     "iopub.status.busy": "2022-11-12T09:56:35.657793Z",
     "iopub.status.idle": "2022-11-12T09:56:35.663402Z",
     "shell.execute_reply": "2022-11-12T09:56:35.662393Z"
    },
    "papermill": {
     "duration": 0.01925,
     "end_time": "2022-11-12T09:56:35.665617",
     "exception": false,
     "start_time": "2022-11-12T09:56:35.646367",
     "status": "completed"
    },
    "tags": []
   },
   "outputs": [],
   "source": [
    "def calculate_accuracy(Y_Pred, Y_True):\n",
    "    Y_True=np.array(Y_True)\n",
    "    correct=0\n",
    "    for i in range(len(Y_True)):\n",
    "        if Y_True[i] == Y_Pred[i]:\n",
    "            correct += 1\n",
    "   # returns ratio of the number of correct predictions out of all predictions that were made\n",
    "    return correct / float(len(Y_True)) * 100.0"
   ]
  },
  {
   "cell_type": "code",
   "execution_count": 119,
   "id": "10c65ab0",
   "metadata": {
    "execution": {
     "iopub.execute_input": "2022-11-12T09:56:35.688091Z",
     "iopub.status.busy": "2022-11-12T09:56:35.687697Z",
     "iopub.status.idle": "2022-11-12T09:56:35.693464Z",
     "shell.execute_reply": "2022-11-12T09:56:35.692390Z"
    },
    "papermill": {
     "duration": 0.019701,
     "end_time": "2022-11-12T09:56:35.695767",
     "exception": false,
     "start_time": "2022-11-12T09:56:35.676066",
     "status": "completed"
    },
    "tags": []
   },
   "outputs": [
    {
     "name": "stdout",
     "output_type": "stream",
     "text": [
      "96.66666666666667\n"
     ]
    }
   ],
   "source": [
    "#test the accuracy\n",
    "accuracy = calculate_accuracy(Y_Pred,Y_Test)\n",
    "print(accuracy)"
   ]
  },
  {
   "cell_type": "markdown",
   "id": "aa2c2ce3",
   "metadata": {
    "papermill": {
     "duration": 0.010038,
     "end_time": "2022-11-12T09:56:35.715859",
     "exception": false,
     "start_time": "2022-11-12T09:56:35.705821",
     "status": "completed"
    },
    "tags": []
   },
   "source": [
    "<h3>Predict a Single instant: </h3>"
   ]
  },
  {
   "cell_type": "code",
   "execution_count": 120,
   "id": "a23a10f1",
   "metadata": {
    "execution": {
     "iopub.execute_input": "2022-11-12T09:56:35.737751Z",
     "iopub.status.busy": "2022-11-12T09:56:35.737376Z",
     "iopub.status.idle": "2022-11-12T09:56:35.743715Z",
     "shell.execute_reply": "2022-11-12T09:56:35.742708Z"
    },
    "papermill": {
     "duration": 0.020383,
     "end_time": "2022-11-12T09:56:35.746208",
     "exception": false,
     "start_time": "2022-11-12T09:56:35.725825",
     "status": "completed"
    },
    "tags": []
   },
   "outputs": [
    {
     "name": "stdout",
     "output_type": "stream",
     "text": [
      "Iris-setosa\n"
     ]
    }
   ],
   "source": [
    "# the true value should be 'Iris-setosa'\n",
    "single_pred = gnb.predict(np.array([[5.1, 3.5, 1.4, 0.2],]))[0]\n",
    "\n",
    "print(list(mapping.keys())[list(mapping.values()).index(single_pred)])"
   ]
  },
  {
   "cell_type": "markdown",
   "id": "b5a431f3",
   "metadata": {
    "papermill": {
     "duration": 0.008414,
     "end_time": "2022-11-12T09:56:31.384070",
     "exception": false,
     "start_time": "2022-11-12T09:56:31.375656",
     "status": "completed"
    },
    "tags": []
   },
   "source": [
    "<h3 style=\"color: red\">TODO:</h3>\n",
    "<h3>Draw the Decision boundaries</h3>"
   ]
  },
  {
   "cell_type": "markdown",
   "id": "1caf960f",
   "metadata": {
    "papermill": {
     "duration": 0.008385,
     "end_time": "2022-11-12T09:56:31.401139",
     "exception": false,
     "start_time": "2022-11-12T09:56:31.392754",
     "status": "completed"
    },
    "tags": []
   },
   "source": [
    "<h4>Use PCA to reduce the dimension of the data to 2D:</h4>"
   ]
  },
  {
   "cell_type": "code",
   "execution_count": 121,
   "id": "e119952c",
   "metadata": {
    "execution": {
     "iopub.execute_input": "2022-11-12T09:56:31.420962Z",
     "iopub.status.busy": "2022-11-12T09:56:31.419885Z",
     "iopub.status.idle": "2022-11-12T09:56:31.425947Z",
     "shell.execute_reply": "2022-11-12T09:56:31.425061Z"
    },
    "papermill": {
     "duration": 0.018427,
     "end_time": "2022-11-12T09:56:31.428188",
     "exception": false,
     "start_time": "2022-11-12T09:56:31.409761",
     "status": "completed"
    },
    "tags": []
   },
   "outputs": [],
   "source": [
    "X_Plot_Train = X_Train[[\"sepal length (cm)\",\"sepal width (cm)\"]]"
   ]
  },
  {
   "cell_type": "code",
   "execution_count": 122,
   "id": "5c611994",
   "metadata": {
    "execution": {
     "iopub.execute_input": "2022-11-12T09:56:31.448044Z",
     "iopub.status.busy": "2022-11-12T09:56:31.447259Z",
     "iopub.status.idle": "2022-11-12T09:56:31.458912Z",
     "shell.execute_reply": "2022-11-12T09:56:31.457913Z"
    },
    "papermill": {
     "duration": 0.024144,
     "end_time": "2022-11-12T09:56:31.461152",
     "exception": false,
     "start_time": "2022-11-12T09:56:31.437008",
     "status": "completed"
    },
    "tags": []
   },
   "outputs": [
    {
     "data": {
      "text/html": [
       "<style>#sk-container-id-2 {color: black;background-color: white;}#sk-container-id-2 pre{padding: 0;}#sk-container-id-2 div.sk-toggleable {background-color: white;}#sk-container-id-2 label.sk-toggleable__label {cursor: pointer;display: block;width: 100%;margin-bottom: 0;padding: 0.3em;box-sizing: border-box;text-align: center;}#sk-container-id-2 label.sk-toggleable__label-arrow:before {content: \"▸\";float: left;margin-right: 0.25em;color: #696969;}#sk-container-id-2 label.sk-toggleable__label-arrow:hover:before {color: black;}#sk-container-id-2 div.sk-estimator:hover label.sk-toggleable__label-arrow:before {color: black;}#sk-container-id-2 div.sk-toggleable__content {max-height: 0;max-width: 0;overflow: hidden;text-align: left;background-color: #f0f8ff;}#sk-container-id-2 div.sk-toggleable__content pre {margin: 0.2em;color: black;border-radius: 0.25em;background-color: #f0f8ff;}#sk-container-id-2 input.sk-toggleable__control:checked~div.sk-toggleable__content {max-height: 200px;max-width: 100%;overflow: auto;}#sk-container-id-2 input.sk-toggleable__control:checked~label.sk-toggleable__label-arrow:before {content: \"▾\";}#sk-container-id-2 div.sk-estimator input.sk-toggleable__control:checked~label.sk-toggleable__label {background-color: #d4ebff;}#sk-container-id-2 div.sk-label input.sk-toggleable__control:checked~label.sk-toggleable__label {background-color: #d4ebff;}#sk-container-id-2 input.sk-hidden--visually {border: 0;clip: rect(1px 1px 1px 1px);clip: rect(1px, 1px, 1px, 1px);height: 1px;margin: -1px;overflow: hidden;padding: 0;position: absolute;width: 1px;}#sk-container-id-2 div.sk-estimator {font-family: monospace;background-color: #f0f8ff;border: 1px dotted black;border-radius: 0.25em;box-sizing: border-box;margin-bottom: 0.5em;}#sk-container-id-2 div.sk-estimator:hover {background-color: #d4ebff;}#sk-container-id-2 div.sk-parallel-item::after {content: \"\";width: 100%;border-bottom: 1px solid gray;flex-grow: 1;}#sk-container-id-2 div.sk-label:hover label.sk-toggleable__label {background-color: #d4ebff;}#sk-container-id-2 div.sk-serial::before {content: \"\";position: absolute;border-left: 1px solid gray;box-sizing: border-box;top: 0;bottom: 0;left: 50%;z-index: 0;}#sk-container-id-2 div.sk-serial {display: flex;flex-direction: column;align-items: center;background-color: white;padding-right: 0.2em;padding-left: 0.2em;position: relative;}#sk-container-id-2 div.sk-item {position: relative;z-index: 1;}#sk-container-id-2 div.sk-parallel {display: flex;align-items: stretch;justify-content: center;background-color: white;position: relative;}#sk-container-id-2 div.sk-item::before, #sk-container-id-2 div.sk-parallel-item::before {content: \"\";position: absolute;border-left: 1px solid gray;box-sizing: border-box;top: 0;bottom: 0;left: 50%;z-index: -1;}#sk-container-id-2 div.sk-parallel-item {display: flex;flex-direction: column;z-index: 1;position: relative;background-color: white;}#sk-container-id-2 div.sk-parallel-item:first-child::after {align-self: flex-end;width: 50%;}#sk-container-id-2 div.sk-parallel-item:last-child::after {align-self: flex-start;width: 50%;}#sk-container-id-2 div.sk-parallel-item:only-child::after {width: 0;}#sk-container-id-2 div.sk-dashed-wrapped {border: 1px dashed gray;margin: 0 0.4em 0.5em 0.4em;box-sizing: border-box;padding-bottom: 0.4em;background-color: white;}#sk-container-id-2 div.sk-label label {font-family: monospace;font-weight: bold;display: inline-block;line-height: 1.2em;}#sk-container-id-2 div.sk-label-container {text-align: center;}#sk-container-id-2 div.sk-container {/* jupyter's `normalize.less` sets `[hidden] { display: none; }` but bootstrap.min.css set `[hidden] { display: none !important; }` so we also need the `!important` here to be able to override the default hidden behavior on the sphinx rendered scikit-learn.org. See: https://github.com/scikit-learn/scikit-learn/issues/21755 */display: inline-block !important;position: relative;}#sk-container-id-2 div.sk-text-repr-fallback {display: none;}</style><div id=\"sk-container-id-2\" class=\"sk-top-container\"><div class=\"sk-text-repr-fallback\"><pre>GaussianNB()</pre><b>In a Jupyter environment, please rerun this cell to show the HTML representation or trust the notebook. <br />On GitHub, the HTML representation is unable to render, please try loading this page with nbviewer.org.</b></div><div class=\"sk-container\" hidden><div class=\"sk-item\"><div class=\"sk-estimator sk-toggleable\"><input class=\"sk-toggleable__control sk-hidden--visually\" id=\"sk-estimator-id-2\" type=\"checkbox\" checked><label for=\"sk-estimator-id-2\" class=\"sk-toggleable__label sk-toggleable__label-arrow\">GaussianNB</label><div class=\"sk-toggleable__content\"><pre>GaussianNB()</pre></div></div></div></div></div>"
      ],
      "text/plain": [
       "GaussianNB()"
      ]
     },
     "execution_count": 122,
     "metadata": {},
     "output_type": "execute_result"
    }
   ],
   "source": [
    "gnb_plot = GaussianNB()\n",
    "gnb_plot.fit(X_Plot_Train, Y_Train)"
   ]
  },
  {
   "cell_type": "code",
   "execution_count": 123,
   "id": "b0d42918",
   "metadata": {
    "execution": {
     "iopub.execute_input": "2022-11-12T09:56:31.481731Z",
     "iopub.status.busy": "2022-11-12T09:56:31.480983Z",
     "iopub.status.idle": "2022-11-12T09:56:33.495124Z",
     "shell.execute_reply": "2022-11-12T09:56:33.494027Z"
    },
    "papermill": {
     "duration": 2.027583,
     "end_time": "2022-11-12T09:56:33.497910",
     "exception": false,
     "start_time": "2022-11-12T09:56:31.470327",
     "status": "completed"
    },
    "tags": []
   },
   "outputs": [
    {
     "data": {
      "image/png": "[encoded data removed]",
      "text/plain": [
       "<Figure size 406.375x360 with 1 Axes>"
      ]
     },
     "metadata": {
      "needs_background": "light"
     },
     "output_type": "display_data"
    }
   ],
   "source": [
    "# Our 2-dimensional classifier will be over variables X and Y\n",
    "N_plot = 100\n",
    "X_plot = np.linspace(4, 8, N_plot)\n",
    "Y_plot = np.linspace(1.5, 5, N_plot)\n",
    "X_plot, Y_plot = np.meshgrid(X_plot, Y_plot)\n",
    "\n",
    "plot = sns.FacetGrid(data, hue=\"Species\", size=5, palette='husl').map(plt.scatter, \"sepal length (cm)\",\"sepal width (cm)\", ).add_legend()\n",
    "my_ax = plot.ax\n",
    "\n",
    "# Computing the predicted class function for each value on the grid\n",
    "zz = np.array([gnb_plot.predict([[xx, yy]])[0] for xx, yy in zip(np.ravel(X_plot), np.ravel(Y_plot))])\n",
    "\n",
    "# Reshaping the predicted class into the meshgrid shape\n",
    "Z = zz.reshape(X_plot.shape)\n",
    "\n",
    "# Plot the filled and boundary contours\n",
    "my_ax.contourf(X_plot, Y_plot, Z, 2, alpha=.1, colors=('blue', 'green', 'red'))\n",
    "my_ax.contour(X_plot, Y_plot, Z, 2, alpha=1, colors=('blue', 'green', 'red'))\n",
    "\n",
    "# Add axis and title\n",
    "my_ax.set_xlabel('Sepal length')\n",
    "my_ax.set_ylabel('Sepal width')\n",
    "my_ax.set_title('Gaussian Naive Bayes decision boundaries')\n",
    "\n",
    "plt.show()"
   ]
  },
  {
   "cell_type": "markdown",
   "id": "31b6436a",
   "metadata": {
    "papermill": {
     "duration": 0.009235,
     "end_time": "2022-11-12T09:56:33.516689",
     "exception": false,
     "start_time": "2022-11-12T09:56:33.507454",
     "status": "completed"
    },
    "tags": []
   },
   "source": [
    "<h3>data 3D Plotting using Plotly</h3>"
   ]
  },
  {
   "cell_type": "code",
   "execution_count": 124,
   "id": "cf61411f",
   "metadata": {
    "execution": {
     "iopub.execute_input": "2022-11-12T09:56:33.537919Z",
     "iopub.status.busy": "2022-11-12T09:56:33.536956Z",
     "iopub.status.idle": "2022-11-12T09:56:35.612996Z",
     "shell.execute_reply": "2022-11-12T09:56:35.611414Z"
    },
    "papermill": {
     "duration": 2.089269,
     "end_time": "2022-11-12T09:56:35.615343",
     "exception": false,
     "start_time": "2022-11-12T09:56:33.526074",
     "status": "completed"
    },
    "tags": []
   },
   "outputs": [
    {
     "data": {
      "application/vnd.plotly.v1+json": {
       "config": {
        "plotlyServerURL": "https://plot.ly"
       },
       "data": [
        {
         "hovertemplate": "sepal length (cm)=%{x}<br>sepal width (cm)=%{y}<br>petal length (cm)=%{z}<br>petal width (cm)=%{marker.size}<br>Species=%{marker.color}<extra></extra>",
         "legendgroup": "",
         "marker": {
          "color": [
           0,
           0,
           0,
           0,
           0,
           0,
           0,
           0,
           0,
           0,
           0,
           0,
           0,
           0,
           0,
           0,
           0,
           0,
           0,
           0,
           0,
           0,
           0,
           0,
           0,
           0,
           0,
           0,
           0,
           0,
           0,
           0,
           0,
           0,
           0,
           0,
           0,
           0,
           0,
           0,
           0,
           0,
           0,
           0,
           0,
           0,
           0,
           0,
           0,
           0,
           1,
           1,
           1,
           1,
           1,
           1,
           1,
           1,
           1,
           1,
           1,
           1,
           1,
           1,
           1,
           1,
           1,
           1,
           1,
           1,
           1,
           1,
           1,
           1,
           1,
           1,
           1,
           1,
           1,
           1,
           1,
           1,
           1,
           1,
           1,
           1,
           1,
           1,
           1,
           1,
           1,
           1,
           1,
           1,
           1,
           1,
           1,
           1,
           1,
           1,
           2,
           2,
           2,
           2,
           2,
           2,
           2,
           2,
           2,
           2,
           2,
           2,
           2,
           2,
           2,
           2,
           2,
           2,
           2,
           2,
           2,
           2,
           2,
           2,
           2,
           2,
           2,
           2,
           2,
           2,
           2,
           2,
           2,
           2,
           2,
           2,
           2,
           2,
           2,
           2,
           2,
           2,
           2,
           2,
           2,
           2,
           2,
           2,
           2,
           2
          ],
          "coloraxis": "coloraxis",
          "size": [
           0.2,
           0.2,
           0.2,
           0.2,
           0.2,
           0.4,
           0.3,
           0.2,
           0.2,
           0.1,
           0.2,
           0.2,
           0.1,
           0.1,
           0.2,
           0.4,
           0.4,
           0.3,
           0.3,
           0.3,
           0.2,
           0.4,
           0.2,
           0.5,
           0.2,
           0.2,
           0.4,
           0.2,
           0.2,
           0.2,
           0.2,
           0.4,
           0.1,
           0.2,
           0.2,
           0.2,
           0.2,
           0.1,
           0.2,
           0.2,
           0.3,
           0.3,
           0.2,
           0.6,
           0.4,
           0.3,
           0.2,
           0.2,
           0.2,
           0.2,
           1.4,
           1.5,
           1.5,
           1.3,
           1.5,
           1.3,
           1.6,
           1,
           1.3,
           1.4,
           1,
           1.5,
           1,
           1.4,
           1.3,
           1.4,
           1.5,
           1,
           1.5,
           1.1,
           1.8,
           1.3,
           1.5,
           1.2,
           1.3,
           1.4,
           1.4,
           1.7,
           1.5,
           1,
           1.1,
           1,
           1.2,
           1.6,
           1.5,
           1.6,
           1.5,
           1.3,
           1.3,
           1.3,
           1.2,
           1.4,
           1.2,
           1,
           1.3,
           1.2,
           1.3,
           1.3,
           1.1,
           1.3,
           2.5,
           1.9,
           2.1,
           1.8,
           2.2,
           2.1,
           1.7,
           1.8,
           1.8,
           2.5,
           2,
           1.9,
           2.1,
           2,
           2.4,
           2.3,
           1.8,
           2.2,
           2.3,
           1.5,
           2.3,
           2,
           2,
           1.8,
           2.1,
           1.8,
           1.8,
           1.8,
           2.1,
           1.6,
           1.9,
           2,
           2.2,
           1.5,
           1.4,
           2.3,
           2.4,
           1.8,
           1.8,
           2.1,
           2.4,
           2.3,
           1.9,
           2.3,
           2.5,
           2.3,
           1.9,
           2,
           2.3,
           1.8
          ],
          "sizemode": "area",
          "sizeref": 0.00625,
          "symbol": "circle"
         },
         "mode": "markers",
         "name": "",
         "scene": "scene",
         "showlegend": false,
         "type": "scatter3d",
         "x": [
          5.1,
          4.9,
          4.7,
          4.6,
          5,
          5.4,
          4.6,
          5,
          4.4,
          4.9,
          5.4,
          4.8,
          4.8,
          4.3,
          5.8,
          5.7,
          5.4,
          5.1,
          5.7,
          5.1,
          5.4,
          5.1,
          4.6,
          5.1,
          4.8,
          5,
          5,
          5.2,
          5.2,
          4.7,
          4.8,
          5.4,
          5.2,
          5.5,
          4.9,
          5,
          5.5,
          4.9,
          4.4,
          5.1,
          5,
          4.5,
          4.4,
          5,
          5.1,
          4.8,
          5.1,
          4.6,
          5.3,
          5,
          7,
          6.4,
          6.9,
          5.5,
          6.5,
          5.7,
          6.3,
          4.9,
          6.6,
          5.2,
          5,
          5.9,
          6,
          6.1,
          5.6,
          6.7,
          5.6,
          5.8,
          6.2,
          5.6,
          5.9,
          6.1,
          6.3,
          6.1,
          6.4,
          6.6,
          6.8,
          6.7,
          6,
          5.7,
          5.5,
          5.5,
          5.8,
          6,
          5.4,
          6,
          6.7,
          6.3,
          5.6,
          5.5,
          5.5,
          6.1,
          5.8,
          5,
          5.6,
          5.7,
          5.7,
          6.2,
          5.1,
          5.7,
          6.3,
          5.8,
          7.1,
          6.3,
          6.5,
          7.6,
          4.9,
          7.3,
          6.7,
          7.2,
          6.5,
          6.4,
          6.8,
          5.7,
          5.8,
          6.4,
          6.5,
          7.7,
          7.7,
          6,
          6.9,
          5.6,
          7.7,
          6.3,
          6.7,
          7.2,
          6.2,
          6.1,
          6.4,
          7.2,
          7.4,
          7.9,
          6.4,
          6.3,
          6.1,
          7.7,
          6.3,
          6.4,
          6,
          6.9,
          6.7,
          6.9,
          5.8,
          6.8,
          6.7,
          6.7,
          6.3,
          6.5,
          6.2,
          5.9
         ],
         "y": [
          3.5,
          3,
          3.2,
          3.1,
          3.6,
          3.9,
          3.4,
          3.4,
          2.9,
          3.1,
          3.7,
          3.4,
          3,
          3,
          4,
          4.4,
          3.9,
          3.5,
          3.8,
          3.8,
          3.4,
          3.7,
          3.6,
          3.3,
          3.4,
          3,
          3.4,
          3.5,
          3.4,
          3.2,
          3.1,
          3.4,
          4.1,
          4.2,
          3.1,
          3.2,
          3.5,
          3.6,
          3,
          3.4,
          3.5,
          2.3,
          3.2,
          3.5,
          3.8,
          3,
          3.8,
          3.2,
          3.7,
          3.3,
          3.2,
          3.2,
          3.1,
          2.3,
          2.8,
          2.8,
          3.3,
          2.4,
          2.9,
          2.7,
          2,
          3,
          2.2,
          2.9,
          2.9,
          3.1,
          3,
          2.7,
          2.2,
          2.5,
          3.2,
          2.8,
          2.5,
          2.8,
          2.9,
          3,
          2.8,
          3,
          2.9,
          2.6,
          2.4,
          2.4,
          2.7,
          2.7,
          3,
          3.4,
          3.1,
          2.3,
          3,
          2.5,
          2.6,
          3,
          2.6,
          2.3,
          2.7,
          3,
          2.9,
          2.9,
          2.5,
          2.8,
          3.3,
          2.7,
          3,
          2.9,
          3,
          3,
          2.5,
          2.9,
          2.5,
          3.6,
          3.2,
          2.7,
          3,
          2.5,
          2.8,
          3.2,
          3,
          3.8,
          2.6,
          2.2,
          3.2,
          2.8,
          2.8,
          2.7,
          3.3,
          3.2,
          2.8,
          3,
          2.8,
          3,
          2.8,
          3.8,
          2.8,
          2.8,
          2.6,
          3,
          3.4,
          3.1,
          3,
          3.1,
          3.1,
          3.1,
          2.7,
          3.2,
          3.3,
          3,
          2.5,
          3,
          3.4,
          3
         ],
         "z": [
          1.4,
          1.4,
          1.3,
          1.5,
          1.4,
          1.7,
          1.4,
          1.5,
          1.4,
          1.5,
          1.5,
          1.6,
          1.4,
          1.1,
          1.2,
          1.5,
          1.3,
          1.4,
          1.7,
          1.5,
          1.7,
          1.5,
          1,
          1.7,
          1.9,
          1.6,
          1.6,
          1.5,
          1.4,
          1.6,
          1.6,
          1.5,
          1.5,
          1.4,
          1.5,
          1.2,
          1.3,
          1.4,
          1.3,
          1.5,
          1.3,
          1.3,
          1.3,
          1.6,
          1.9,
          1.4,
          1.6,
          1.4,
          1.5,
          1.4,
          4.7,
          4.5,
          4.9,
          4,
          4.6,
          4.5,
          4.7,
          3.3,
          4.6,
          3.9,
          3.5,
          4.2,
          4,
          4.7,
          3.6,
          4.4,
          4.5,
          4.1,
          4.5,
          3.9,
          4.8,
          4,
          4.9,
          4.7,
          4.3,
          4.4,
          4.8,
          5,
          4.5,
          3.5,
          3.8,
          3.7,
          3.9,
          5.1,
          4.5,
          4.5,
          4.7,
          4.4,
          4.1,
          4,
          4.4,
          4.6,
          4,
          3.3,
          4.2,
          4.2,
          4.2,
          4.3,
          3,
          4.1,
          6,
          5.1,
          5.9,
          5.6,
          5.8,
          6.6,
          4.5,
          6.3,
          5.8,
          6.1,
          5.1,
          5.3,
          5.5,
          5,
          5.1,
          5.3,
          5.5,
          6.7,
          6.9,
          5,
          5.7,
          4.9,
          6.7,
          4.9,
          5.7,
          6,
          4.8,
          4.9,
          5.6,
          5.8,
          6.1,
          6.4,
          5.6,
          5.1,
          5.6,
          6.1,
          5.6,
          5.5,
          4.8,
          5.4,
          5.6,
          5.1,
          5.1,
          5.9,
          5.7,
          5.2,
          5,
          5.2,
          5.4,
          5.1
         ]
        }
       ],
       "layout": {
        "coloraxis": {
         "colorbar": {
          "title": {
           "text": "Species"
          }
         },
         "colorscale": [
          [
           0,
           "#0d0887"
          ],
          [
           0.1111111111111111,
           "#46039f"
          ],
          [
           0.2222222222222222,
           "#7201a8"
          ],
          [
           0.3333333333333333,
           "#9c179e"
          ],
          [
           0.4444444444444444,
           "#bd3786"
          ],
          [
           0.5555555555555556,
           "#d8576b"
          ],
          [
           0.6666666666666666,
           "#ed7953"
          ],
          [
           0.7777777777777778,
           "#fb9f3a"
          ],
          [
           0.8888888888888888,
           "#fdca26"
          ],
          [
           1,
           "#f0f921"
          ]
         ]
        },
        "legend": {
         "itemsizing": "constant",
         "tracegroupgap": 0
        },
        "margin": {
         "t": 60
        },
        "scene": {
         "domain": {
          "x": [
           0,
           1
          ],
          "y": [
           0,
           1
          ]
         },
         "xaxis": {
          "title": {
           "text": "sepal length (cm)"
          }
         },
         "yaxis": {
          "title": {
           "text": "sepal width (cm)"
          }
         },
         "zaxis": {
          "title": {
           "text": "petal length (cm)"
          }
         }
        },
        "template": {
         "data": {
          "bar": [
           {
            "error_x": {
             "color": "#2a3f5f"
            },
            "error_y": {
             "color": "#2a3f5f"
            },
            "marker": {
             "line": {
              "color": "#E5ECF6",
              "width": 0.5
             },
             "pattern": {
              "fillmode": "overlay",
              "size": 10,
              "solidity": 0.2
             }
            },
            "type": "bar"
           }
          ],
          "barpolar": [
           {
            "marker": {
             "line": {
              "color": "#E5ECF6",
              "width": 0.5
             },
             "pattern": {
              "fillmode": "overlay",
              "size": 10,
              "solidity": 0.2
             }
            },
            "type": "barpolar"
           }
          ],
          "carpet": [
           {
            "aaxis": {
             "endlinecolor": "#2a3f5f",
             "gridcolor": "white",
             "linecolor": "white",
             "minorgridcolor": "white",
             "startlinecolor": "#2a3f5f"
            },
            "baxis": {
             "endlinecolor": "#2a3f5f",
             "gridcolor": "white",
             "linecolor": "white",
             "minorgridcolor": "white",
             "startlinecolor": "#2a3f5f"
            },
            "type": "carpet"
           }
          ],
          "choropleth": [
           {
            "colorbar": {
             "outlinewidth": 0,
             "ticks": ""
            },
            "type": "choropleth"
           }
          ],
          "contour": [
           {
            "colorbar": {
             "outlinewidth": 0,
             "ticks": ""
            },
            "colorscale": [
             [
              0,
              "#0d0887"
             ],
             [
              0.1111111111111111,
              "#46039f"
             ],
             [
              0.2222222222222222,
              "#7201a8"
             ],
             [
              0.3333333333333333,
              "#9c179e"
             ],
             [
              0.4444444444444444,
              "#bd3786"
             ],
             [
              0.5555555555555556,
              "#d8576b"
             ],
             [
              0.6666666666666666,
              "#ed7953"
             ],
             [
              0.7777777777777778,
              "#fb9f3a"
             ],
             [
              0.8888888888888888,
              "#fdca26"
             ],
             [
              1,
              "#f0f921"
             ]
            ],
            "type": "contour"
           }
          ],
          "contourcarpet": [
           {
            "colorbar": {
             "outlinewidth": 0,
             "ticks": ""
            },
            "type": "contourcarpet"
           }
          ],
          "heatmap": [
           {
            "colorbar": {
             "outlinewidth": 0,
             "ticks": ""
            },
            "colorscale": [
             [
              0,
              "#0d0887"
             ],
             [
              0.1111111111111111,
              "#46039f"
             ],
             [
              0.2222222222222222,
              "#7201a8"
             ],
             [
              0.3333333333333333,
              "#9c179e"
             ],
             [
              0.4444444444444444,
              "#bd3786"
             ],
             [
              0.5555555555555556,
              "#d8576b"
             ],
             [
              0.6666666666666666,
              "#ed7953"
             ],
             [
              0.7777777777777778,
              "#fb9f3a"
             ],
             [
              0.8888888888888888,
              "#fdca26"
             ],
             [
              1,
              "#f0f921"
             ]
            ],
            "type": "heatmap"
           }
          ],
          "heatmapgl": [
           {
            "colorbar": {
             "outlinewidth": 0,
             "ticks": ""
            },
            "colorscale": [
             [
              0,
              "#0d0887"
             ],
             [
              0.1111111111111111,
              "#46039f"
             ],
             [
              0.2222222222222222,
              "#7201a8"
             ],
             [
              0.3333333333333333,
              "#9c179e"
             ],
             [
              0.4444444444444444,
              "#bd3786"
             ],
             [
              0.5555555555555556,
              "#d8576b"
             ],
             [
              0.6666666666666666,
              "#ed7953"
             ],
             [
              0.7777777777777778,
              "#fb9f3a"
             ],
             [
              0.8888888888888888,
              "#fdca26"
             ],
             [
              1,
              "#f0f921"
             ]
            ],
            "type": "heatmapgl"
           }
          ],
          "histogram": [
           {
            "marker": {
             "pattern": {
              "fillmode": "overlay",
              "size": 10,
              "solidity": 0.2
             }
            },
            "type": "histogram"
           }
          ],
          "histogram2d": [
           {
            "colorbar": {
             "outlinewidth": 0,
             "ticks": ""
            },
            "colorscale": [
             [
              0,
              "#0d0887"
             ],
             [
              0.1111111111111111,
              "#46039f"
             ],
             [
              0.2222222222222222,
              "#7201a8"
             ],
             [
              0.3333333333333333,
              "#9c179e"
             ],
             [
              0.4444444444444444,
              "#bd3786"
             ],
             [
              0.5555555555555556,
              "#d8576b"
             ],
             [
              0.6666666666666666,
              "#ed7953"
             ],
             [
              0.7777777777777778,
              "#fb9f3a"
             ],
             [
              0.8888888888888888,
              "#fdca26"
             ],
             [
              1,
              "#f0f921"
             ]
            ],
            "type": "histogram2d"
           }
          ],
          "histogram2dcontour": [
           {
            "colorbar": {
             "outlinewidth": 0,
             "ticks": ""
            },
            "colorscale": [
             [
              0,
              "#0d0887"
             ],
             [
              0.1111111111111111,
              "#46039f"
             ],
             [
              0.2222222222222222,
              "#7201a8"
             ],
             [
              0.3333333333333333,
              "#9c179e"
             ],
             [
              0.4444444444444444,
              "#bd3786"
             ],
             [
              0.5555555555555556,
              "#d8576b"
             ],
             [
              0.6666666666666666,
              "#ed7953"
             ],
             [
              0.7777777777777778,
              "#fb9f3a"
             ],
             [
              0.8888888888888888,
              "#fdca26"
             ],
             [
              1,
              "#f0f921"
             ]
            ],
            "type": "histogram2dcontour"
           }
          ],
          "mesh3d": [
           {
            "colorbar": {
             "outlinewidth": 0,
             "ticks": ""
            },
            "type": "mesh3d"
           }
          ],
          "parcoords": [
           {
            "line": {
             "colorbar": {
              "outlinewidth": 0,
              "ticks": ""
             }
            },
            "type": "parcoords"
           }
          ],
          "pie": [
           {
            "automargin": true,
            "type": "pie"
           }
          ],
          "scatter": [
           {
            "fillpattern": {
             "fillmode": "overlay",
             "size": 10,
             "solidity": 0.2
            },
            "type": "scatter"
           }
          ],
          "scatter3d": [
           {
            "line": {
             "colorbar": {
              "outlinewidth": 0,
              "ticks": ""
             }
            },
            "marker": {
             "colorbar": {
              "outlinewidth": 0,
              "ticks": ""
             }
            },
            "type": "scatter3d"
           }
          ],
          "scattercarpet": [
           {
            "marker": {
             "colorbar": {
              "outlinewidth": 0,
              "ticks": ""
             }
            },
            "type": "scattercarpet"
           }
          ],
          "scattergeo": [
           {
            "marker": {
             "colorbar": {
              "outlinewidth": 0,
              "ticks": ""
             }
            },
            "type": "scattergeo"
           }
          ],
          "scattergl": [
           {
            "marker": {
             "colorbar": {
              "outlinewidth": 0,
              "ticks": ""
             }
            },
            "type": "scattergl"
           }
          ],
          "scattermapbox": [
           {
            "marker": {
             "colorbar": {
              "outlinewidth": 0,
              "ticks": ""
             }
            },
            "type": "scattermapbox"
           }
          ],
          "scatterpolar": [
           {
            "marker": {
             "colorbar": {
              "outlinewidth": 0,
              "ticks": ""
             }
            },
            "type": "scatterpolar"
           }
          ],
          "scatterpolargl": [
           {
            "marker": {
             "colorbar": {
              "outlinewidth": 0,
              "ticks": ""
             }
            },
            "type": "scatterpolargl"
           }
          ],
          "scatterternary": [
           {
            "marker": {
             "colorbar": {
              "outlinewidth": 0,
              "ticks": ""
             }
            },
            "type": "scatterternary"
           }
          ],
          "surface": [
           {
            "colorbar": {
             "outlinewidth": 0,
             "ticks": ""
            },
            "colorscale": [
             [
              0,
              "#0d0887"
             ],
             [
              0.1111111111111111,
              "#46039f"
             ],
             [
              0.2222222222222222,
              "#7201a8"
             ],
             [
              0.3333333333333333,
              "#9c179e"
             ],
             [
              0.4444444444444444,
              "#bd3786"
             ],
             [
              0.5555555555555556,
              "#d8576b"
             ],
             [
              0.6666666666666666,
              "#ed7953"
             ],
             [
              0.7777777777777778,
              "#fb9f3a"
             ],
             [
              0.8888888888888888,
              "#fdca26"
             ],
             [
              1,
              "#f0f921"
             ]
            ],
            "type": "surface"
           }
          ],
          "table": [
           {
            "cells": {
             "fill": {
              "color": "#EBF0F8"
             },
             "line": {
              "color": "white"
             }
            },
            "header": {
             "fill": {
              "color": "#C8D4E3"
             },
             "line": {
              "color": "white"
             }
            },
            "type": "table"
           }
          ]
         },
         "layout": {
          "annotationdefaults": {
           "arrowcolor": "#2a3f5f",
           "arrowhead": 0,
           "arrowwidth": 1
          },
          "autotypenumbers": "strict",
          "coloraxis": {
           "colorbar": {
            "outlinewidth": 0,
            "ticks": ""
           }
          },
          "colorscale": {
           "diverging": [
            [
             0,
             "#8e0152"
            ],
            [
             0.1,
             "#c51b7d"
            ],
            [
             0.2,
             "#de77ae"
            ],
            [
             0.3,
             "#f1b6da"
            ],
            [
             0.4,
             "#fde0ef"
            ],
            [
             0.5,
             "#f7f7f7"
            ],
            [
             0.6,
             "#e6f5d0"
            ],
            [
             0.7,
             "#b8e186"
            ],
            [
             0.8,
             "#7fbc41"
            ],
            [
             0.9,
             "#4d9221"
            ],
            [
             1,
             "#276419"
            ]
           ],
           "sequential": [
            [
             0,
             "#0d0887"
            ],
            [
             0.1111111111111111,
             "#46039f"
            ],
            [
             0.2222222222222222,
             "#7201a8"
            ],
            [
             0.3333333333333333,
             "#9c179e"
            ],
            [
             0.4444444444444444,
             "#bd3786"
            ],
            [
             0.5555555555555556,
             "#d8576b"
            ],
            [
             0.6666666666666666,
             "#ed7953"
            ],
            [
             0.7777777777777778,
             "#fb9f3a"
            ],
            [
             0.8888888888888888,
             "#fdca26"
            ],
            [
             1,
             "#f0f921"
            ]
           ],
           "sequentialminus": [
            [
             0,
             "#0d0887"
            ],
            [
             0.1111111111111111,
             "#46039f"
            ],
            [
             0.2222222222222222,
             "#7201a8"
            ],
            [
             0.3333333333333333,
             "#9c179e"
            ],
            [
             0.4444444444444444,
             "#bd3786"
            ],
            [
             0.5555555555555556,
             "#d8576b"
            ],
            [
             0.6666666666666666,
             "#ed7953"
            ],
            [
             0.7777777777777778,
             "#fb9f3a"
            ],
            [
             0.8888888888888888,
             "#fdca26"
            ],
            [
             1,
             "#f0f921"
            ]
           ]
          },
          "colorway": [
           "#636efa",
           "#EF553B",
           "#00cc96",
           "#ab63fa",
           "#FFA15A",
           "#19d3f3",
           "#FF6692",
           "#B6E880",
           "#FF97FF",
           "#FECB52"
          ],
          "font": {
           "color": "#2a3f5f"
          },
          "geo": {
           "bgcolor": "white",
           "lakecolor": "white",
           "landcolor": "#E5ECF6",
           "showlakes": true,
           "showland": true,
           "subunitcolor": "white"
          },
          "hoverlabel": {
           "align": "left"
          },
          "hovermode": "closest",
          "mapbox": {
           "style": "light"
          },
          "paper_bgcolor": "white",
          "plot_bgcolor": "#E5ECF6",
          "polar": {
           "angularaxis": {
            "gridcolor": "white",
            "linecolor": "white",
            "ticks": ""
           },
           "bgcolor": "#E5ECF6",
           "radialaxis": {
            "gridcolor": "white",
            "linecolor": "white",
            "ticks": ""
           }
          },
          "scene": {
           "xaxis": {
            "backgroundcolor": "#E5ECF6",
            "gridcolor": "white",
            "gridwidth": 2,
            "linecolor": "white",
            "showbackground": true,
            "ticks": "",
            "zerolinecolor": "white"
           },
           "yaxis": {
            "backgroundcolor": "#E5ECF6",
            "gridcolor": "white",
            "gridwidth": 2,
            "linecolor": "white",
            "showbackground": true,
            "ticks": "",
            "zerolinecolor": "white"
           },
           "zaxis": {
            "backgroundcolor": "#E5ECF6",
            "gridcolor": "white",
            "gridwidth": 2,
            "linecolor": "white",
            "showbackground": true,
            "ticks": "",
            "zerolinecolor": "white"
           }
          },
          "shapedefaults": {
           "line": {
            "color": "#2a3f5f"
           }
          },
          "ternary": {
           "aaxis": {
            "gridcolor": "white",
            "linecolor": "white",
            "ticks": ""
           },
           "baxis": {
            "gridcolor": "white",
            "linecolor": "white",
            "ticks": ""
           },
           "bgcolor": "#E5ECF6",
           "caxis": {
            "gridcolor": "white",
            "linecolor": "white",
            "ticks": ""
           }
          },
          "title": {
           "x": 0.05
          },
          "xaxis": {
           "automargin": true,
           "gridcolor": "white",
           "linecolor": "white",
           "ticks": "",
           "title": {
            "standoff": 15
           },
           "zerolinecolor": "white",
           "zerolinewidth": 2
          },
          "yaxis": {
           "automargin": true,
           "gridcolor": "white",
           "linecolor": "white",
           "ticks": "",
           "title": {
            "standoff": 15
           },
           "zerolinecolor": "white",
           "zerolinewidth": 2
          }
         }
        }
       }
      }
     },
     "metadata": {},
     "output_type": "display_data"
    }
   ],
   "source": [
    "from plotly.express import scatter_3d\n",
    "\n",
    "scatter_3d(data, x='sepal length (cm)', y='sepal width (cm)', z='petal length (cm)', size=\"petal width (cm)\",\n",
    "                   color=\"Species\", color_discrete_map={\"Joly\": \"blue\", \"Bergeron\": \"violet\", \"Coderre\": \"pink\"})\\\n",
    "            .show()"
   ]
  }
 ],
 "metadata": {
  "kernelspec": {
   "display_name": "Python 3.9.7",
   "language": "python",
   "name": "python3"
  },
  "language_info": {
   "codemirror_mode": {
    "name": "ipython",
    "version": 3
   },
   "file_extension": ".py",
   "mimetype": "text/x-python",
   "name": "python",
   "nbconvert_exporter": "python",
   "pygments_lexer": "ipython3",
   "version": "3.9.7"
  },
  "papermill": {
   "default_parameters": {},
   "duration": 15.041445,
   "end_time": "2022-11-12T09:56:36.577502",
   "environment_variables": {},
   "exception": null,
   "input_path": "__notebook__.ipynb",
   "output_path": "__notebook__.ipynb",
   "parameters": {},
   "start_time": "2022-11-12T09:56:21.536057",
   "version": "2.3.4"
  },
  "vscode": {
   "interpreter": {
    "hash": "5179d32cf6ec497baf3f8a3ef987cc77c5d2dc691fdde20a56316522f61a7323"
   }
  }
 },
 "nbformat": 4,
 "nbformat_minor": 5
}
